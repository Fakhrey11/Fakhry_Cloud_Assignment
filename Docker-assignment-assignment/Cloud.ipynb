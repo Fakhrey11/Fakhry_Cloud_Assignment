{
 "cells": [
  {
   "cell_type": "code",
   "execution_count": 5,
   "id": "e8b3a71b-8617-4cb3-9163-7dfb56dc7c0d",
   "metadata": {},
   "outputs": [
    {
     "name": "stdout",
     "output_type": "stream",
     "text": [
      "96    best selling books is Harry Potter Boxset (Har...\n",
      "Name: title, dtype: object\n"
     ]
    }
   ],
   "source": [
    "import pandas as pd\n",
    "df = pd.read_csv('books.csv')\n",
    "\n",
    "df.dropna(inplace=True)   \n",
    "\n",
    "df.drop_duplicates(inplace=True)\n",
    "HarryPotterBooks = df[df['original_title'].str.contains('Harry Potter', case=False) ]\n",
    "\n",
    "heightestRate=HarryPotterBooks['average_rating'].max()\n",
    "mostSoldBooks = HarryPotterBooks[HarryPotterBooks['average_rating'] == heightestRate]\n",
    "mostSoldBooks=mostSoldBooks['title']        \n",
    "\n",
    "print('best selling books is '+mostSoldBooks)\n",
    "\n",
    "average_value = HarryPotterBooks['average_rating'].mean()\n",
    "average_value=str(average_value)\n"
   ]
  },
  {
   "cell_type": "code",
   "execution_count": null,
   "id": "ef82dba0-0af0-41fa-9237-3f3fcaff8f96",
   "metadata": {},
   "outputs": [],
   "source": []
  },
  {
   "cell_type": "code",
   "execution_count": null,
   "id": "14f85084-ff99-4698-86cd-7501f2546214",
   "metadata": {},
   "outputs": [],
   "source": []
  }
 ],
 "metadata": {
  "kernelspec": {
   "display_name": "Python 3 (ipykernel)",
   "language": "python",
   "name": "python3"
  },
  "language_info": {
   "codemirror_mode": {
    "name": "ipython",
    "version": 3
   },
   "file_extension": ".py",
   "mimetype": "text/x-python",
   "name": "python",
   "nbconvert_exporter": "python",
   "pygments_lexer": "ipython3",
   "version": "3.11.4"
  }
 },
 "nbformat": 4,
 "nbformat_minor": 5
}
